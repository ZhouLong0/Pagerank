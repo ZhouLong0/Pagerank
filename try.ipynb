{
 "cells": [
  {
   "cell_type": "code",
   "execution_count": 55,
   "metadata": {},
   "outputs": [],
   "source": [
    "import graph\n",
    "import pagerank\n",
    "g = graph.DirectedGraph()\n",
    "g.add_node(0, airport_name='DTW')\n",
    "g.add_node(1, airport_name='AMS', country='The Netherlands')\n",
    "g.add_node(2, airport_name='ORD', city='Chicago')\n",
    "g.add_edge(0, 1, flight_time_in_hours=8)\n",
    "g.add_edge(0, 2, flight_time_in_hours=1)\n",
    "g.add_edge(1, 0, airline_name='KLM')\n",
    "\n"
   ]
  },
  {
   "cell_type": "code",
   "execution_count": 4,
   "metadata": {},
   "outputs": [
    {
     "data": {
      "text/plain": [
       "{0: 0.3333333333333333, 1: 0.3333333333333333, 2: 0.3333333333333333}"
      ]
     },
     "execution_count": 4,
     "metadata": {},
     "output_type": "execute_result"
    }
   ],
   "source": [
    "pr = {node.identifier() : 1 / len(g) for node in g.nodes()}\n",
    "pr"
   ]
  },
  {
   "cell_type": "code",
   "execution_count": 6,
   "metadata": {},
   "outputs": [
    {
     "data": {
      "text/plain": [
       "{0: 1, 1: 0.3333333333333333, 2: 0.3333333333333333}"
      ]
     },
     "execution_count": 6,
     "metadata": {},
     "output_type": "execute_result"
    }
   ],
   "source": [
    "pr[0] = 1\n",
    "pr"
   ]
  },
  {
   "cell_type": "code",
   "execution_count": 13,
   "metadata": {},
   "outputs": [
    {
     "name": "stdout",
     "output_type": "stream",
     "text": [
      "Node [1]\n",
      "    airport_name : AMS\n",
      "    country : The Netherlands\n",
      " 1\n"
     ]
    }
   ],
   "source": [
    "def backlinks(node_id):\n",
    "    edges = g.edges()\n",
    "    nodes = []\n",
    "    for edge in edges:\n",
    "        node_from =edge.nodes()[0]\n",
    "        node_to = edge.nodes()[1]\n",
    "        if node_to.identifier() == node_id:\n",
    "            nodes.append(node_from)\n",
    "    return nodes\n",
    "\n",
    "for node in (backlinks(0)):\n",
    "    print(node, node.identifier())"
   ]
  },
  {
   "cell_type": "code",
   "execution_count": 27,
   "metadata": {},
   "outputs": [
    {
     "name": "stdout",
     "output_type": "stream",
     "text": [
      "Node [2]\n",
      "    airport_name : ORD\n",
      "    city : Chicago\n",
      "\n"
     ]
    }
   ],
   "source": [
    "nodes = g.nodes()\n",
    "edges = g.edges()\n",
    "not_sink_nodes = [edge.nodes()[0] for edge in edges]\n",
    "sink_nodes = [node for node in nodes if node not in not_sink_nodes]\n",
    "for node in sink_nodes:\n",
    "    print(node)"
   ]
  },
  {
   "cell_type": "code",
   "execution_count": 56,
   "metadata": {},
   "outputs": [
    {
     "data": {
      "text/plain": [
       "{0: 0.39361702126840514, 1: 0.30319148936579726, 2: 0.30319148936579726}"
      ]
     },
     "execution_count": 56,
     "metadata": {},
     "output_type": "execute_result"
    }
   ],
   "source": [
    "import importlib\n",
    "importlib.reload(pagerank)\n",
    "\n",
    "pagerank.pagerank(g)"
   ]
  },
  {
   "cell_type": "code",
   "execution_count": 57,
   "metadata": {},
   "outputs": [
    {
     "data": {
      "text/plain": [
       "{0: 0.42777777777777776, 1: 0.2861111111111111, 2: 0.2861111111111111}"
      ]
     },
     "execution_count": 57,
     "metadata": {},
     "output_type": "execute_result"
    }
   ],
   "source": [
    "pagerank.pagerank(g, 1)"
   ]
  }
 ],
 "metadata": {
  "kernelspec": {
   "display_name": "base",
   "language": "python",
   "name": "python3"
  },
  "language_info": {
   "codemirror_mode": {
    "name": "ipython",
    "version": 3
   },
   "file_extension": ".py",
   "mimetype": "text/x-python",
   "name": "python",
   "nbconvert_exporter": "python",
   "pygments_lexer": "ipython3",
   "version": "3.9.12"
  },
  "orig_nbformat": 4,
  "vscode": {
   "interpreter": {
    "hash": "40d3a090f54c6569ab1632332b64b2c03c39dcf918b08424e98f38b5ae0af88f"
   }
  }
 },
 "nbformat": 4,
 "nbformat_minor": 2
}
